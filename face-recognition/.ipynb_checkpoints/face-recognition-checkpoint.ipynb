{
 "cells": [
  {
   "cell_type": "markdown",
   "metadata": {},
   "source": [
    "## Inspiration behind this work :\n",
    "* I wish to have an attendance management system driven by computer vision\n",
    "* It should be capable of marking people present by just recognizing their face\n",
    "* In case, the system is not capable of recognizing a person with certain confidence level, tagging feature is provided for the user to add name/ID etc. for the detected face"
   ]
  },
  {
   "cell_type": "markdown",
   "metadata": {},
   "source": [
    "## References : \n",
    "* Reference to the [face_recognition](https://github.com/code4thought/face_recognition) package for easier face processing and storage"
   ]
  },
  {
   "cell_type": "markdown",
   "metadata": {},
   "source": [
    "## The pseudo code\n",
    "**Step-1 :** Import the required librarires\n",
    "   * numpy\n",
    "   * opencv (imported as cv2)\n",
    "   * face_recognition (has a set of dependencies for this to work fine). Refer [Here](https://www.pyimagesearch.com/2018/01/22/install-dlib-easy-complete-guide/) for installation steps. Specifically look for below steps :\n",
    "![pic](./docs/steps-for-dlib.png)\n",
    "and then,\n",
    "![pic](./docs/steps-for-dlib-01.png)\n",
    "**Please note :** The above steps are valid for installation in Ubuntu. Steps for MacOS is also provided in the reference link. Windows installation is a bit of a challenge.However, there are references for the same too. (*Not tried though!*)"
   ]
  },
  {
   "cell_type": "code",
   "execution_count": 11,
   "metadata": {},
   "outputs": [],
   "source": [
    "import numpy as np\n",
    "import face_recognition\n",
    "import cv2"
   ]
  },
  {
   "cell_type": "code",
   "execution_count": 12,
   "metadata": {},
   "outputs": [
    {
     "name": "stdout",
     "output_type": "stream",
     "text": [
      "<class 'numpy.ndarray'>\n"
     ]
    }
   ],
   "source": [
    "# define the base location where all the images to be face-cropped are kept\n",
    "# iterate through all the images, identify faces in them and crop the faces\n",
    "# store all cropped faces into another folder\n",
    "\n",
    "image = face_recognition.load_image_file('amit.jpg')\n",
    "print(type(image))\n",
    "image = cv2.cvtColor(image, cv2.COLOR_BGR2RGB)"
   ]
  },
  {
   "cell_type": "code",
   "execution_count": null,
   "metadata": {},
   "outputs": [],
   "source": [
    "# apply clustering algorithms to group similar faces together\n",
    "# this would save a lot of time labelling the images one-by-one\n",
    "# barring few erroneous cases, if the "
   ]
  },
  {
   "cell_type": "code",
   "execution_count": 13,
   "metadata": {},
   "outputs": [],
   "source": [
    "cv2.imshow(\"test\",image)\n",
    "cv2.waitKey(0)\n",
    "cv2.destroyAllWindows()"
   ]
  },
  {
   "cell_type": "code",
   "execution_count": 14,
   "metadata": {},
   "outputs": [],
   "source": [
    "face_locations = face_recognition.face_locations(image)"
   ]
  },
  {
   "cell_type": "code",
   "execution_count": 15,
   "metadata": {
    "scrolled": true
   },
   "outputs": [
    {
     "name": "stdout",
     "output_type": "stream",
     "text": [
      "150 322 305 167\n",
      "253 184 408 29\n"
     ]
    }
   ],
   "source": [
    "for (top, right, bottom, left) in face_locations:\n",
    "    print(top,right,bottom,left)\n",
    "    #cv2.rectangle(image,(left,top),(right,bottom),(0,255,0),2)\n",
    "    frame = image[top:bottom,left:right]\n",
    "    cv2.imwrite('img_'+str(top)+'.jpg',frame)\n",
    "#cv2.imwrite('drawn.jpg',image)"
   ]
  },
  {
   "cell_type": "code",
   "execution_count": null,
   "metadata": {},
   "outputs": [],
   "source": [
    "cv2.rectangle(image,(167,150),(322,305),(0,255,0),1)\n",
    "#cv2.rectangle(image,(29,253),(184,408),(0,255,0),1)\n",
    "cv2.imwrite('amit5.jpg',image)"
   ]
  },
  {
   "cell_type": "code",
   "execution_count": 13,
   "metadata": {},
   "outputs": [],
   "source": [
    "video_capture = cv2.VideoCapture(0)"
   ]
  },
  {
   "cell_type": "code",
   "execution_count": 14,
   "metadata": {},
   "outputs": [],
   "source": [
    "amit_image = face_recognition.load_image_file(\"amit/img-01.jpg\")\n",
    "amit_face_encoding = face_recognition.face_encodings(amit_image)[0]"
   ]
  },
  {
   "cell_type": "code",
   "execution_count": 15,
   "metadata": {},
   "outputs": [],
   "source": [
    "priti_image = face_recognition.load_image_file(\"priti/img-01.jpg\")\n",
    "priti_face_encoding = face_recognition.face_encodings(priti_image)[0]"
   ]
  },
  {
   "cell_type": "code",
   "execution_count": 16,
   "metadata": {},
   "outputs": [],
   "source": [
    "known_face_encodings = [\n",
    "    amit_face_encoding,\n",
    "    priti_face_encoding\n",
    "]\n",
    "known_face_names = [\n",
    "    \"Amit\",\n",
    "    \"Priti\"\n",
    "]"
   ]
  },
  {
   "cell_type": "code",
   "execution_count": 17,
   "metadata": {},
   "outputs": [],
   "source": [
    "# Initialize some variables\n",
    "face_locations = []\n",
    "face_encodings = []\n",
    "face_names = []\n",
    "process_this_frame = True\n",
    "\n",
    "while True:\n",
    "    # Grab a single frame of video\n",
    "    ret, frame = video_capture.read()\n",
    "    # Resize frame of video to 1/4 size for faster face recognition processing\n",
    "    small_frame = cv2.resize(frame, (0, 0), fx=0.25, fy=0.25)\n",
    "    # Convert the image from BGR color (which OpenCV uses) to RGB color (which face_recognition uses)\n",
    "    rgb_small_frame = small_frame[:, :, ::-1]\n",
    "\n",
    "    # Only process every other frame of video to save time\n",
    "    if process_this_frame:\n",
    "        # Find all the faces and face encodings in the current frame of video\n",
    "        face_locations = face_recognition.face_locations(rgb_small_frame)\n",
    "        face_encodings = face_recognition.face_encodings(rgb_small_frame, face_locations)\n",
    "\n",
    "        face_names = []\n",
    "        for face_encoding in face_encodings:\n",
    "            # See if the face is a match for the known face(s)\n",
    "            matches = face_recognition.compare_faces(known_face_encodings, face_encoding)\n",
    "            name = \"Unknown\"\n",
    "\n",
    "            # # If a match was found in known_face_encodings, just use the first one.\n",
    "            # if True in matches:\n",
    "            #     first_match_index = matches.index(True)\n",
    "            #     name = known_face_names[first_match_index]\n",
    "\n",
    "            # Or instead, use the known face with the smallest distance to the new face\n",
    "            face_distances = face_recognition.face_distance(known_face_encodings, face_encoding)\n",
    "            best_match_index = np.argmin(face_distances)\n",
    "            if matches[best_match_index]:\n",
    "                name = known_face_names[best_match_index]\n",
    "\n",
    "            face_names.append(name)\n",
    "\n",
    "    process_this_frame = not process_this_frame\n",
    "\n",
    "\n",
    "    # Display the results\n",
    "    for (top, right, bottom, left), name in zip(face_locations, face_names):\n",
    "        # Scale back up face locations since the frame we detected in was scaled to 1/4 size\n",
    "        top *= 4\n",
    "        right *= 4\n",
    "        bottom *= 4\n",
    "        left *= 4\n",
    "\n",
    "        # Draw a box around the face\n",
    "        cv2.rectangle(frame, (left, top), (right, bottom), (0, 0, 255), 2)\n",
    "\n",
    "        # Draw a label with a name below the face\n",
    "        cv2.rectangle(frame, (left, bottom - 35), (right, bottom), (0, 0, 255), cv2.FILLED)\n",
    "        font = cv2.FONT_HERSHEY_DUPLEX\n",
    "        cv2.putText(frame, name, (left + 6, bottom - 6), font, 1.0, (255, 255, 255), 1)\n",
    "\n",
    "    # Display the resulting image\n",
    "    cv2.imshow('Video', frame)\n",
    "\n",
    "    # Hit 'q' on the keyboard to quit!\n",
    "    if cv2.waitKey(1) & 0xFF == ord('q'):\n",
    "        break\n",
    "\n",
    "# Release handle to the webcam\n",
    "video_capture.release()\n",
    "cv2.destroyAllWindows()"
   ]
  },
  {
   "cell_type": "code",
   "execution_count": null,
   "metadata": {},
   "outputs": [],
   "source": []
  }
 ],
 "metadata": {
  "kernelspec": {
   "display_name": "Python 3",
   "language": "python",
   "name": "python3"
  },
  "language_info": {
   "codemirror_mode": {
    "name": "ipython",
    "version": 3
   },
   "file_extension": ".py",
   "mimetype": "text/x-python",
   "name": "python",
   "nbconvert_exporter": "python",
   "pygments_lexer": "ipython3",
   "version": "3.6.8"
  }
 },
 "nbformat": 4,
 "nbformat_minor": 2
}
